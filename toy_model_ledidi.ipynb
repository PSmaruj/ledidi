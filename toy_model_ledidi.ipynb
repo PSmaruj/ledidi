{
 "cells": [
  {
   "cell_type": "code",
   "execution_count": 1,
   "metadata": {},
   "outputs": [],
   "source": [
    "import torch\n",
    "import torch.nn as nn\n",
    "from torch import Tensor\n",
    "import torch.optim as optim\n",
    "from torch.utils.data import Dataset,DataLoader,SubsetRandomSampler,ConcatDataset\n",
    "import torch.nn.functional as F"
   ]
  },
  {
   "cell_type": "code",
   "execution_count": 2,
   "metadata": {},
   "outputs": [],
   "source": [
    "import sys\n",
    "sys.path.insert(0, \"/home1/smaruj/AkitaMini-pytorch\")  # Add the directory where \"ledidi\" is located\n",
    "from model import SeqNN\n",
    "from helper import plot_map, from_upper_triu, upper_triangular_to_vector_skip_diagonals"
   ]
  },
  {
   "cell_type": "code",
   "execution_count": 3,
   "metadata": {},
   "outputs": [
    {
     "name": "stdout",
     "output_type": "stream",
     "text": [
      "cuda:0\n"
     ]
    }
   ],
   "source": [
    "device = torch.device(\"cuda:0\" if torch.cuda.is_available() else \"cpu\")\n",
    "\n",
    "print(device)"
   ]
  },
  {
   "cell_type": "code",
   "execution_count": 4,
   "metadata": {},
   "outputs": [
    {
     "name": "stderr",
     "output_type": "stream",
     "text": [
      "/tmp/SLURM_271102/ipykernel_1372725/2425661507.py:4: FutureWarning: You are using `torch.load` with `weights_only=False` (the current default value), which uses the default pickle module implicitly. It is possible to construct malicious pickle data which will execute arbitrary code during unpickling (See https://github.com/pytorch/pytorch/blob/main/SECURITY.md#untrusted-models for more details). In a future release, the default value for `weights_only` will be flipped to `True`. This limits the functions that could be executed during unpickling. Arbitrary objects will no longer be allowed to be loaded via this mode unless they are explicitly allowlisted by the user via `torch.serialization.add_safe_globals`. We recommend you start setting `weights_only=True` for any use case where you don't have full control of the loaded file. Please open an issue on GitHub for any issues related to this experimental feature.\n",
      "  model.load_state_dict(torch.load('/home1/smaruj/AkitaMini-pytorch/best_model.pth'))\n"
     ]
    },
    {
     "data": {
      "text/plain": [
       "<All keys matched successfully>"
      ]
     },
     "execution_count": 4,
     "metadata": {},
     "output_type": "execute_result"
    }
   ],
   "source": [
    "model = SeqNN()\n",
    "\n",
    "# Load the saved model weights\n",
    "model.load_state_dict(torch.load('/home1/smaruj/AkitaMini-pytorch/best_model.pth'))"
   ]
  },
  {
   "cell_type": "code",
   "execution_count": 5,
   "metadata": {},
   "outputs": [],
   "source": [
    "model = model.to(device)"
   ]
  },
  {
   "cell_type": "code",
   "execution_count": 6,
   "metadata": {},
   "outputs": [
    {
     "data": {
      "text/plain": [
       "SeqNN(\n",
       "  (stochastic_reverse_complement): StochasticReverseComplement()\n",
       "  (stochastic_shift): StochasticShift()\n",
       "  (conv_block_1): ConvBlock(\n",
       "    (conv): Conv1d(4, 96, kernel_size=(11,), stride=(1,), padding=(5,), bias=False)\n",
       "    (batch_norm): BatchNorm1d(96, eps=0.001, momentum=0.0735, affine=True, track_running_stats=True)\n",
       "    (pool): MaxPool1d(kernel_size=8, stride=8, padding=0, dilation=1, ceil_mode=False)\n",
       "  )\n",
       "  (conv_tower): ConvTower(\n",
       "    (conv_tower): Sequential(\n",
       "      (0): ReLU()\n",
       "      (1): Conv1d(96, 96, kernel_size=(5,), stride=(1,), padding=(2,), bias=False)\n",
       "      (2): BatchNorm1d(96, eps=0.001, momentum=0.0735, affine=True, track_running_stats=True)\n",
       "      (3): MaxPool1d(kernel_size=2, stride=2, padding=0, dilation=1, ceil_mode=False)\n",
       "      (4): ReLU()\n",
       "      (5): Conv1d(96, 96, kernel_size=(5,), stride=(1,), padding=(2,), bias=False)\n",
       "      (6): BatchNorm1d(96, eps=0.001, momentum=0.0735, affine=True, track_running_stats=True)\n",
       "      (7): MaxPool1d(kernel_size=2, stride=2, padding=0, dilation=1, ceil_mode=False)\n",
       "      (8): ReLU()\n",
       "      (9): Conv1d(96, 96, kernel_size=(5,), stride=(1,), padding=(2,), bias=False)\n",
       "      (10): BatchNorm1d(96, eps=0.001, momentum=0.0735, affine=True, track_running_stats=True)\n",
       "      (11): MaxPool1d(kernel_size=2, stride=2, padding=0, dilation=1, ceil_mode=False)\n",
       "      (12): ReLU()\n",
       "      (13): Conv1d(96, 96, kernel_size=(5,), stride=(1,), padding=(2,), bias=False)\n",
       "      (14): BatchNorm1d(96, eps=0.001, momentum=0.0735, affine=True, track_running_stats=True)\n",
       "      (15): MaxPool1d(kernel_size=2, stride=2, padding=0, dilation=1, ceil_mode=False)\n",
       "      (16): ReLU()\n",
       "      (17): Conv1d(96, 96, kernel_size=(5,), stride=(1,), padding=(2,), bias=False)\n",
       "      (18): BatchNorm1d(96, eps=0.001, momentum=0.0735, affine=True, track_running_stats=True)\n",
       "      (19): MaxPool1d(kernel_size=2, stride=2, padding=0, dilation=1, ceil_mode=False)\n",
       "      (20): ReLU()\n",
       "      (21): Conv1d(96, 96, kernel_size=(5,), stride=(1,), padding=(2,), bias=False)\n",
       "      (22): BatchNorm1d(96, eps=0.001, momentum=0.0735, affine=True, track_running_stats=True)\n",
       "      (23): MaxPool1d(kernel_size=2, stride=2, padding=0, dilation=1, ceil_mode=False)\n",
       "    )\n",
       "  )\n",
       "  (residual1d_block1): ResidualDilatedBlock1D(\n",
       "    (relu1): ReLU()\n",
       "    (conv1): Conv1d(96, 48, kernel_size=(3,), stride=(1,), padding=(1,), bias=False)\n",
       "    (bn1): BatchNorm1d(48, eps=0.001, momentum=0.0735, affine=True, track_running_stats=True)\n",
       "    (relu2): ReLU()\n",
       "    (conv2): Conv1d(48, 96, kernel_size=(1,), stride=(1,), bias=False)\n",
       "    (bn2): BatchNorm1d(96, eps=0.001, momentum=0.0735, affine=True, track_running_stats=True)\n",
       "    (dropout): Dropout(p=0.4, inplace=False)\n",
       "  )\n",
       "  (conv_reduce): ConvBlockReduce(\n",
       "    (layers): Sequential(\n",
       "      (0): ReLU()\n",
       "      (1): Conv1d(96, 64, kernel_size=(5,), stride=(1,), padding=(2,), bias=False)\n",
       "      (2): BatchNorm1d(64, eps=0.001, momentum=0.0735, affine=True, track_running_stats=True)\n",
       "      (3): ReLU()\n",
       "    )\n",
       "  )\n",
       "  (one_to_two): OneToTwo()\n",
       "  (concat_dist): ConcatDist2D()\n",
       "  (conv2d_block): Conv2DBlock(\n",
       "    (block): Sequential(\n",
       "      (0): ReLU()\n",
       "      (1): Conv2d(65, 48, kernel_size=(3, 3), stride=(1, 1), padding=(1, 1), bias=False)\n",
       "      (2): BatchNorm2d(48, eps=0.001, momentum=0.0735, affine=True, track_running_stats=True)\n",
       "    )\n",
       "  )\n",
       "  (symmetrize_2d): Symmetrize2D()\n",
       "  (residual2d_block1): DilatedResidualBlock2D(\n",
       "    (relu): ReLU()\n",
       "    (conv1): Conv2d(48, 24, kernel_size=(3, 3), stride=(1, 1), padding=(1, 1), bias=False)\n",
       "    (bn1): BatchNorm2d(24, eps=0.001, momentum=0.0735, affine=True, track_running_stats=True)\n",
       "    (conv2): Conv2d(24, 48, kernel_size=(1, 1), stride=(1, 1), bias=False)\n",
       "    (bn2): BatchNorm2d(48, eps=0.001, momentum=0.0735, affine=True, track_running_stats=True)\n",
       "    (dropout): Dropout2d(p=0.1, inplace=False)\n",
       "    (symmetrize): Symmetrize2D()\n",
       "  )\n",
       "  (residual2d_block2): DilatedResidualBlock2D(\n",
       "    (relu): ReLU()\n",
       "    (conv1): Conv2d(48, 24, kernel_size=(3, 3), stride=(1, 1), padding=(2, 2), dilation=(2, 2), bias=False)\n",
       "    (bn1): BatchNorm2d(24, eps=0.001, momentum=0.0735, affine=True, track_running_stats=True)\n",
       "    (conv2): Conv2d(24, 48, kernel_size=(1, 1), stride=(1, 1), dilation=(2, 2), bias=False)\n",
       "    (bn2): BatchNorm2d(48, eps=0.001, momentum=0.0735, affine=True, track_running_stats=True)\n",
       "    (dropout): Dropout2d(p=0.1, inplace=False)\n",
       "    (symmetrize): Symmetrize2D()\n",
       "  )\n",
       "  (residual2d_block3): DilatedResidualBlock2D(\n",
       "    (relu): ReLU()\n",
       "    (conv1): Conv2d(48, 24, kernel_size=(3, 3), stride=(1, 1), padding=(4, 4), dilation=(4, 4), bias=False)\n",
       "    (bn1): BatchNorm2d(24, eps=0.001, momentum=0.0735, affine=True, track_running_stats=True)\n",
       "    (conv2): Conv2d(24, 48, kernel_size=(1, 1), stride=(1, 1), dilation=(4, 4), bias=False)\n",
       "    (bn2): BatchNorm2d(48, eps=0.001, momentum=0.0735, affine=True, track_running_stats=True)\n",
       "    (dropout): Dropout2d(p=0.1, inplace=False)\n",
       "    (symmetrize): Symmetrize2D()\n",
       "  )\n",
       "  (residual2d_block4): DilatedResidualBlock2D(\n",
       "    (relu): ReLU()\n",
       "    (conv1): Conv2d(48, 24, kernel_size=(3, 3), stride=(1, 1), padding=(7, 7), dilation=(7, 7), bias=False)\n",
       "    (bn1): BatchNorm2d(24, eps=0.001, momentum=0.0735, affine=True, track_running_stats=True)\n",
       "    (conv2): Conv2d(24, 48, kernel_size=(1, 1), stride=(1, 1), dilation=(7, 7), bias=False)\n",
       "    (bn2): BatchNorm2d(48, eps=0.001, momentum=0.0735, affine=True, track_running_stats=True)\n",
       "    (dropout): Dropout2d(p=0.1, inplace=False)\n",
       "    (symmetrize): Symmetrize2D()\n",
       "  )\n",
       "  (cropping_2d): Cropping2D()\n",
       "  (upper_tri): UpperTri()\n",
       "  (final): Final(\n",
       "    (dense): Linear(in_features=48, out_features=1, bias=True)\n",
       "  )\n",
       "  (switch_reverse_triu): SwitchReverseTriu()\n",
       ")"
      ]
     },
     "execution_count": 6,
     "metadata": {},
     "output_type": "execute_result"
    }
   ],
   "source": [
    "# Set the model to evaluation mode (important for inference)\n",
    "model.eval()"
   ]
  },
  {
   "cell_type": "code",
   "execution_count": 7,
   "metadata": {},
   "outputs": [
    {
     "data": {
      "text/plain": [
       "==========================================================================================\n",
       "Layer (type:depth-idx)                   Output Shape              Param #\n",
       "==========================================================================================\n",
       "SeqNN                                    [2, 1, 1953]              --\n",
       "├─StochasticReverseComplement: 1-1       [2, 4, 32768]             --\n",
       "├─StochasticShift: 1-2                   [2, 4, 32768]             --\n",
       "├─ConvBlock: 1-3                         [2, 96, 4096]             --\n",
       "│    └─Conv1d: 2-1                       [2, 96, 32768]            4,224\n",
       "│    └─BatchNorm1d: 2-2                  [2, 96, 32768]            192\n",
       "│    └─MaxPool1d: 2-3                    [2, 96, 4096]             --\n",
       "├─ConvTower: 1-4                         [2, 96, 64]               --\n",
       "│    └─Sequential: 2-4                   [2, 96, 64]               --\n",
       "│    │    └─ReLU: 3-1                    [2, 96, 4096]             --\n",
       "│    │    └─Conv1d: 3-2                  [2, 96, 4096]             46,080\n",
       "│    │    └─BatchNorm1d: 3-3             [2, 96, 4096]             192\n",
       "│    │    └─MaxPool1d: 3-4               [2, 96, 2048]             --\n",
       "│    │    └─ReLU: 3-5                    [2, 96, 2048]             --\n",
       "│    │    └─Conv1d: 3-6                  [2, 96, 2048]             46,080\n",
       "│    │    └─BatchNorm1d: 3-7             [2, 96, 2048]             192\n",
       "│    │    └─MaxPool1d: 3-8               [2, 96, 1024]             --\n",
       "│    │    └─ReLU: 3-9                    [2, 96, 1024]             --\n",
       "│    │    └─Conv1d: 3-10                 [2, 96, 1024]             46,080\n",
       "│    │    └─BatchNorm1d: 3-11            [2, 96, 1024]             192\n",
       "│    │    └─MaxPool1d: 3-12              [2, 96, 512]              --\n",
       "│    │    └─ReLU: 3-13                   [2, 96, 512]              --\n",
       "│    │    └─Conv1d: 3-14                 [2, 96, 512]              46,080\n",
       "│    │    └─BatchNorm1d: 3-15            [2, 96, 512]              192\n",
       "│    │    └─MaxPool1d: 3-16              [2, 96, 256]              --\n",
       "│    │    └─ReLU: 3-17                   [2, 96, 256]              --\n",
       "│    │    └─Conv1d: 3-18                 [2, 96, 256]              46,080\n",
       "│    │    └─BatchNorm1d: 3-19            [2, 96, 256]              192\n",
       "│    │    └─MaxPool1d: 3-20              [2, 96, 128]              --\n",
       "│    │    └─ReLU: 3-21                   [2, 96, 128]              --\n",
       "│    │    └─Conv1d: 3-22                 [2, 96, 128]              46,080\n",
       "│    │    └─BatchNorm1d: 3-23            [2, 96, 128]              192\n",
       "│    │    └─MaxPool1d: 3-24              [2, 96, 64]               --\n",
       "├─ResidualDilatedBlock1D: 1-5            [2, 96, 64]               --\n",
       "│    └─ReLU: 2-5                         [2, 96, 64]               --\n",
       "│    └─Conv1d: 2-6                       [2, 48, 64]               13,824\n",
       "│    └─BatchNorm1d: 2-7                  [2, 48, 64]               96\n",
       "│    └─ReLU: 2-8                         [2, 48, 64]               --\n",
       "│    └─Conv1d: 2-9                       [2, 96, 64]               4,608\n",
       "│    └─BatchNorm1d: 2-10                 [2, 96, 64]               192\n",
       "│    └─Dropout: 2-11                     [2, 96, 64]               --\n",
       "├─ConvBlockReduce: 1-6                   [2, 64, 64]               --\n",
       "│    └─Sequential: 2-12                  [2, 64, 64]               --\n",
       "│    │    └─ReLU: 3-25                   [2, 96, 64]               --\n",
       "│    │    └─Conv1d: 3-26                 [2, 64, 64]               30,720\n",
       "│    │    └─BatchNorm1d: 3-27            [2, 64, 64]               128\n",
       "│    │    └─ReLU: 3-28                   [2, 64, 64]               --\n",
       "├─OneToTwo: 1-7                          [2, 64, 64, 64]           --\n",
       "├─ConcatDist2D: 1-8                      [2, 65, 64, 64]           --\n",
       "├─Conv2DBlock: 1-9                       [2, 48, 64, 64]           --\n",
       "│    └─Sequential: 2-13                  [2, 48, 64, 64]           --\n",
       "│    │    └─ReLU: 3-29                   [2, 65, 64, 64]           --\n",
       "│    │    └─Conv2d: 3-30                 [2, 48, 64, 64]           28,080\n",
       "│    │    └─BatchNorm2d: 3-31            [2, 48, 64, 64]           96\n",
       "├─Symmetrize2D: 1-10                     [2, 48, 64, 64]           --\n",
       "├─DilatedResidualBlock2D: 1-11           [2, 48, 64, 64]           --\n",
       "│    └─ReLU: 2-14                        [2, 48, 64, 64]           --\n",
       "│    └─Conv2d: 2-15                      [2, 24, 64, 64]           10,368\n",
       "│    └─BatchNorm2d: 2-16                 [2, 24, 64, 64]           48\n",
       "│    └─ReLU: 2-17                        [2, 24, 64, 64]           --\n",
       "│    └─Conv2d: 2-18                      [2, 48, 64, 64]           1,152\n",
       "│    └─BatchNorm2d: 2-19                 [2, 48, 64, 64]           96\n",
       "│    └─Dropout2d: 2-20                   [2, 48, 64, 64]           --\n",
       "│    └─Symmetrize2D: 2-21                [2, 48, 64, 64]           --\n",
       "├─DilatedResidualBlock2D: 1-12           [2, 48, 64, 64]           --\n",
       "│    └─ReLU: 2-22                        [2, 48, 64, 64]           --\n",
       "│    └─Conv2d: 2-23                      [2, 24, 64, 64]           10,368\n",
       "│    └─BatchNorm2d: 2-24                 [2, 24, 64, 64]           48\n",
       "│    └─ReLU: 2-25                        [2, 24, 64, 64]           --\n",
       "│    └─Conv2d: 2-26                      [2, 48, 64, 64]           1,152\n",
       "│    └─BatchNorm2d: 2-27                 [2, 48, 64, 64]           96\n",
       "│    └─Dropout2d: 2-28                   [2, 48, 64, 64]           --\n",
       "│    └─Symmetrize2D: 2-29                [2, 48, 64, 64]           --\n",
       "├─DilatedResidualBlock2D: 1-13           [2, 48, 64, 64]           --\n",
       "│    └─ReLU: 2-30                        [2, 48, 64, 64]           --\n",
       "│    └─Conv2d: 2-31                      [2, 24, 64, 64]           10,368\n",
       "│    └─BatchNorm2d: 2-32                 [2, 24, 64, 64]           48\n",
       "│    └─ReLU: 2-33                        [2, 24, 64, 64]           --\n",
       "│    └─Conv2d: 2-34                      [2, 48, 64, 64]           1,152\n",
       "│    └─BatchNorm2d: 2-35                 [2, 48, 64, 64]           96\n",
       "│    └─Dropout2d: 2-36                   [2, 48, 64, 64]           --\n",
       "│    └─Symmetrize2D: 2-37                [2, 48, 64, 64]           --\n",
       "├─DilatedResidualBlock2D: 1-14           [2, 48, 64, 64]           --\n",
       "│    └─ReLU: 2-38                        [2, 48, 64, 64]           --\n",
       "│    └─Conv2d: 2-39                      [2, 24, 64, 64]           10,368\n",
       "│    └─BatchNorm2d: 2-40                 [2, 24, 64, 64]           48\n",
       "│    └─ReLU: 2-41                        [2, 24, 64, 64]           --\n",
       "│    └─Conv2d: 2-42                      [2, 48, 64, 64]           1,152\n",
       "│    └─BatchNorm2d: 2-43                 [2, 48, 64, 64]           96\n",
       "│    └─Dropout2d: 2-44                   [2, 48, 64, 64]           --\n",
       "│    └─Symmetrize2D: 2-45                [2, 48, 64, 64]           --\n",
       "├─Cropping2D: 1-15                       [2, 48, 64, 64]           --\n",
       "├─UpperTri: 1-16                         [2, 48, 1953]             --\n",
       "├─Final: 1-17                            [2, 1, 1953]              --\n",
       "│    └─Linear: 2-46                      [2, 1953, 1]              49\n",
       "├─SwitchReverseTriu: 1-18                [2, 1, 1953]              --\n",
       "==========================================================================================\n",
       "Total params: 406,497\n",
       "Trainable params: 406,497\n",
       "Non-trainable params: 0\n",
       "Total mult-adds (Units.GIGABYTES): 1.63\n",
       "==========================================================================================\n",
       "Input size (MB): 1.05\n",
       "Forward/backward pass size (MB): 169.93\n",
       "Params size (MB): 1.63\n",
       "Estimated Total Size (MB): 172.61\n",
       "=========================================================================================="
      ]
     },
     "execution_count": 7,
     "metadata": {},
     "output_type": "execute_result"
    }
   ],
   "source": [
    "from torchinfo import summary\n",
    "\n",
    "summary(model, input_size=(2, 4, 32768), col_names=[\"output_size\", \"num_params\"])"
   ]
  },
  {
   "cell_type": "code",
   "execution_count": 8,
   "metadata": {},
   "outputs": [],
   "source": [
    "X = torch.load(\"/scratch1/smaruj/ledidi_toy_model/X.pt\", weights_only=True)"
   ]
  },
  {
   "cell_type": "code",
   "execution_count": 9,
   "metadata": {},
   "outputs": [],
   "source": [
    "modified_vector_tensor = torch.load(\"/scratch1/smaruj/ledidi_toy_model/modified_vector.pt\", weights_only=True)"
   ]
  },
  {
   "cell_type": "code",
   "execution_count": null,
   "metadata": {},
   "outputs": [],
   "source": [
    "    # def get_affected_bins(self, changed_indices):\n",
    "    #     \"\"\"\n",
    "    #     Determine which bins contain changed indices.\n",
    "    #     Also include ±1 bin for safety.\n",
    "    #     \"\"\"\n",
    "    #     slice_start, slice_end = changed_indices\n",
    "    \n",
    "    #     # Compute correct bin indices\n",
    "    #     start_bin = slice_start // self.bin_size\n",
    "    #     end_bin = slice_end // self.bin_size  # Ensure proper bin inclusion\n",
    "        \n",
    "    #     affected_bins = set(range(start_bin, end_bin + 1))  # Directly affected bins\n",
    "\n",
    "    #     # Include ±1 neighboring bins\n",
    "    #     if start_bin > 0:\n",
    "    #         affected_bins.add(start_bin - 1)\n",
    "    #     if end_bin < self.num_bins - 1:\n",
    "    #         affected_bins.add(end_bin + 1)\n",
    "\n",
    "    #     return sorted(affected_bins)  # Ensure ordered output"
   ]
  },
  {
   "cell_type": "code",
   "execution_count": 10,
   "metadata": {},
   "outputs": [],
   "source": [
    "# to ensure the local, forked ledidi is used\n",
    "# not the one installed using pip\n",
    "\n",
    "import sys\n",
    "sys.path.insert(0, \"/home1/smaruj/ledidi\")  # Add the directory where \"ledidi\" is located\n",
    "from ledidi import Ledidi"
   ]
  },
  {
   "cell_type": "code",
   "execution_count": null,
   "metadata": {},
   "outputs": [],
   "source": [
    "X.shape, modified_vector_tensor.shape"
   ]
  },
  {
   "cell_type": "code",
   "execution_count": null,
   "metadata": {},
   "outputs": [],
   "source": [
    "X.dtype, modified_vector_tensor.dtype"
   ]
  },
  {
   "cell_type": "code",
   "execution_count": null,
   "metadata": {},
   "outputs": [],
   "source": [
    "# wrapper = Ledidi(model, (1, 32768, 4), verbose=True, batch_size=1,\n",
    "#                  input_loss=torch.nn.L1Loss(reduction='sum'), \n",
    "#                  output_loss=torch.nn.MSELoss(), # default losses\n",
    "#                  max_iter=20000,\n",
    "#                  early_stopping_iter=20000\n",
    "#                  ).cuda()"
   ]
  },
  {
   "cell_type": "code",
   "execution_count": 11,
   "metadata": {},
   "outputs": [],
   "source": [
    "start_index = 10752\n",
    "end_index = 11264"
   ]
  },
  {
   "cell_type": "code",
   "execution_count": 13,
   "metadata": {},
   "outputs": [],
   "source": [
    "seq_length = end_index - start_index"
   ]
  },
  {
   "cell_type": "code",
   "execution_count": 14,
   "metadata": {},
   "outputs": [
    {
     "name": "stdout",
     "output_type": "stream",
     "text": [
      "Model in train mode: False\n",
      "Gradients enabled for weights: True\n",
      "Weights shape torch.Size([1, 4, 512])\n",
      "Gradients enabled for weights 1: True\n",
      "Weights 1 shape torch.Size([1, 4, 512])\n"
     ]
    }
   ],
   "source": [
    "wrapper = Ledidi(model, verbose=True, batch_size=10,\n",
    "                 tau=1.0, l=0.1, eps=1e-4, lr=1.0,\n",
    "                 input_loss=torch.nn.L1Loss(reduction='sum'), \n",
    "                 output_loss=torch.nn.L1Loss(reduction='sum'),\n",
    "                 max_iter=2000,\n",
    "                 early_stopping_iter=200,\n",
    "                 slice_length=seq_length, \n",
    "                 slice_index_0=21, slice_index_1=26,\n",
    "                 use_semifreddo=False,\n",
    "                 return_history=True\n",
    "                 ).cuda()"
   ]
  },
  {
   "cell_type": "code",
   "execution_count": 15,
   "metadata": {},
   "outputs": [],
   "source": [
    "slice_torch = X[:,:,start_index : end_index]"
   ]
  },
  {
   "cell_type": "code",
   "execution_count": 16,
   "metadata": {},
   "outputs": [],
   "source": [
    "X_l_flank = X[:,:,start_index - 512*2 : start_index]\n",
    "X_r_flank = X[:,:,end_index : end_index + 512*2]"
   ]
  },
  {
   "cell_type": "code",
   "execution_count": null,
   "metadata": {},
   "outputs": [],
   "source": [
    "# x_bar, history = wrapper.fit_transform(X, modified_vector_tensor)\n",
    "# if use_semifreddo=True\n",
    "# x_bar = wrapper.fit_transform(slice_torch, modified_vector_tensor, X_l_flank=X_l_flank, X_r_flank=X_r_flank)\n",
    "# x_bar, history = wrapper.fit_transform(slice_torch, modified_vector_tensor, X_l_flank=X_l_flank, X_r_flank=X_r_flank)"
   ]
  },
  {
   "cell_type": "code",
   "execution_count": null,
   "metadata": {},
   "outputs": [],
   "source": [
    "# x_bar.shape\n",
    "\n",
    "#dna_s = slice of full sequence that is the edited bin+padding \n",
    "#model_s = semifreddo version of model, with attributes (model_s.seq = dna_s, model_s.editable_index)\n",
    "model_s = semifreddo(model, sequence, mask)\n",
    "\n",
    "wrapper = ledidi( model_s, seqlength_s)\n",
    "xbar,history = wrapper.fit_transform( model_s.seq, target, \n",
    "                                     output_mask =model_s.outputmask, slice=model_s.editable_index, *kwargs)\n",
    "\n",
    "\n"
   ]
  },
  {
   "cell_type": "code",
   "execution_count": 17,
   "metadata": {},
   "outputs": [
    {
     "name": "stdout",
     "output_type": "stream",
     "text": [
      "iter=I\tinput_loss=0.0\toutput_loss=7.979e+03\ttotal_loss=7.979e+03\ttime=0.0\n",
      "iter=100\tinput_loss=306.5\toutput_loss=6.958e+03\ttotal_loss=6.989e+03\ttime=0.9059\n",
      "iter=200\tinput_loss=336.9\toutput_loss=6.88e+03\ttotal_loss=6.914e+03\ttime=0.7369\n",
      "iter=300\tinput_loss=351.5\toutput_loss=6.873e+03\ttotal_loss=6.908e+03\ttime=0.7368\n",
      "iter=400\tinput_loss=349.1\toutput_loss=6.871e+03\ttotal_loss=6.905e+03\ttime=0.7369\n",
      "iter=500\tinput_loss=340.5\toutput_loss=6.868e+03\ttotal_loss=6.902e+03\ttime=0.737\n",
      "iter=600\tinput_loss=349.2\toutput_loss=6.862e+03\ttotal_loss=6.897e+03\ttime=0.7377\n",
      "iter=700\tinput_loss=355.8\toutput_loss=6.863e+03\ttotal_loss=6.898e+03\ttime=0.7381\n",
      "iter=800\tinput_loss=341.4\toutput_loss=6.86e+03\ttotal_loss=6.894e+03\ttime=0.7387\n",
      "iter=900\tinput_loss=352.4\toutput_loss=6.859e+03\ttotal_loss=6.894e+03\ttime=0.7391\n",
      "iter=1000\tinput_loss=341.6\toutput_loss=6.86e+03\ttotal_loss=6.894e+03\ttime=0.738\n",
      "iter=1100\tinput_loss=342.7\toutput_loss=6.861e+03\ttotal_loss=6.895e+03\ttime=0.7381\n",
      "iter=1200\tinput_loss=340.3\toutput_loss=6.858e+03\ttotal_loss=6.892e+03\ttime=0.738\n",
      "iter=1300\tinput_loss=354.5\toutput_loss=6.858e+03\ttotal_loss=6.894e+03\ttime=0.738\n",
      "iter=F\tinput_loss=344.1\toutput_loss=6.857e+03\ttotal_loss=6.891e+03\ttime=9.79\n"
     ]
    }
   ],
   "source": [
    "# if use_semifreddo=False\n",
    "# x_bar = wrapper.fit_transform(X, modified_vector_tensor, X_l_flank=X_l_flank, X_r_flank=X_r_flank)\n",
    "x_bar, history = wrapper.fit_transform(X, modified_vector_tensor, X_l_flank=X_l_flank, X_r_flank=X_r_flank)"
   ]
  },
  {
   "cell_type": "code",
   "execution_count": 18,
   "metadata": {},
   "outputs": [
    {
     "data": {
      "image/png": "[encoded data removed]",
      "text/plain": [
       "<Figure size 500x300 with 1 Axes>"
      ]
     },
     "metadata": {},
     "output_type": "display_data"
    }
   ],
   "source": [
    "%matplotlib inline\n",
    "import numpy\n",
    "import matplotlib.pyplot as plt\n",
    "import seaborn; seaborn.set_style('whitegrid')\n",
    "\n",
    "plt.figure(figsize=(5, 3))\n",
    "plt.plot(history['input_loss'], c='0.7', label=\"Input Loss\")\n",
    "plt.plot(history['output_loss'], c='0.3', label=\"Output Loss\")\n",
    "plt.legend(fontsize=10)\n",
    "plt.xlabel(\"Iterations\")\n",
    "plt.ylabel(\"Loss\")\n",
    "\n",
    "seaborn.despine(left=True, bottom=True)\n",
    "plt.show()"
   ]
  },
  {
   "cell_type": "code",
   "execution_count": null,
   "metadata": {},
   "outputs": [],
   "source": [
    "X_new = X.clone()\n",
    "X_new = X_new.repeat(10, 1, 1)"
   ]
  },
  {
   "cell_type": "code",
   "execution_count": null,
   "metadata": {},
   "outputs": [],
   "source": [
    "X_new[:,:,start_index:end_index] = x_bar"
   ]
  },
  {
   "cell_type": "code",
   "execution_count": null,
   "metadata": {},
   "outputs": [],
   "source": [
    "unique_set = set()\n",
    "\n",
    "smallest_edited_location = 32000\n",
    "biggest_edited_location = 0\n",
    "\n",
    "for i in range(10):\n",
    "\n",
    "    print(\"sequence:\", i)\n",
    "    \n",
    "    difference_vector = (X[0, :, :] == X_new[i, :, :]).all(dim=0).cpu().numpy()\n",
    "\n",
    "    e=0\n",
    "    edits_loc = []\n",
    "\n",
    "    for loc_index in range(len(difference_vector)):\n",
    "        if difference_vector[loc_index] == False:\n",
    "            e += 1\n",
    "            edits_loc.append(loc_index)\n",
    "            if loc_index < smallest_edited_location:\n",
    "                smallest_edited_location = loc_index\n",
    "            if loc_index > biggest_edited_location:\n",
    "                biggest_edited_location = loc_index\n",
    "    \n",
    "    edits_tuple = tuple(edits_loc)\n",
    "\n",
    "    if edits_tuple not in unique_set:\n",
    "        unique_set.add(edits_tuple)\n",
    "    \n",
    "    print(\"number of edits:\", e)\n",
    "    print(\"edits locations:\", edits_loc)"
   ]
  },
  {
   "cell_type": "code",
   "execution_count": null,
   "metadata": {},
   "outputs": [],
   "source": [
    "len(unique_set)"
   ]
  },
  {
   "cell_type": "code",
   "execution_count": null,
   "metadata": {},
   "outputs": [],
   "source": [
    "from ledidi.plot import plot_edits\n",
    "\n",
    "plot_edits(history)\n",
    "seaborn.despine(bottom=True, left=True)\n",
    "plt.show()"
   ]
  },
  {
   "cell_type": "code",
   "execution_count": null,
   "metadata": {},
   "outputs": [],
   "source": [
    "import seaborn as sns\n",
    "import numpy as np"
   ]
  },
  {
   "cell_type": "code",
   "execution_count": null,
   "metadata": {},
   "outputs": [],
   "source": [
    "X_numpy = X_new.detach().cpu().numpy()\n",
    "X_chunk = X_numpy[:, :, smallest_edited_location:biggest_edited_location]  # Shape: (10, 4, 200)\n",
    "\n",
    "# Convert one-hot encoding to integer labels (0=A, 1=T, 2=C, 3=G)\n",
    "sequence_labels = np.argmax(X_chunk, axis=1)  # Shape: (10, 200)\n",
    "\n",
    "# Define a color map for nucleotides\n",
    "nucleotide_cmap = {\n",
    "    0: \"green\",  # A\n",
    "    1: \"blue\",     # C\n",
    "    2: \"yellow\",    # G\n",
    "    3: \"red\"    # T\n",
    "}\n",
    "\n",
    "# Create a custom colormap for visualization\n",
    "cmap = [nucleotide_cmap[i] for i in range(4)]\n",
    "sns.set(style=\"white\")\n",
    "\n",
    "# Plot heatmap of all sequences\n",
    "plt.figure(figsize=(10, 5))\n",
    "sns.heatmap(sequence_labels, cmap=cmap, cbar=False, xticklabels=False, yticklabels=False)\n",
    "plt.xlabel(\"Position\")\n",
    "plt.ylabel(\"Sequence\")\n",
    "plt.title(\"One-Hot Encoded DNA Sequences\")\n",
    "plt.show()"
   ]
  },
  {
   "cell_type": "code",
   "execution_count": null,
   "metadata": {},
   "outputs": [],
   "source": [
    "# for i in range(10):\n",
    "\n",
    "#     print(\"sequence:\", i)\n",
    "    \n",
    "#     difference_vector = (x_bar[i,:,:] == X[0]).all(dim=0).cpu().numpy()\n",
    "\n",
    "#     e=0\n",
    "#     edits_loc = []\n",
    "\n",
    "#     for loc_index in range(len(difference_vector)):\n",
    "#         if difference_vector[loc_index] == False:\n",
    "#             e += 1\n",
    "#             edits_loc.append(loc_index)\n",
    "            \n",
    "#     print(\"number of edits:\", e)\n",
    "#     print(\"edits locations:\", edits_loc)"
   ]
  },
  {
   "cell_type": "code",
   "execution_count": null,
   "metadata": {},
   "outputs": [],
   "source": [
    "# for i in range(10):\n",
    "#     print(\"sequence\", i)\n",
    "#     print(\"edits =\", (X[0,:,:] != X_new[i,:,:]).sum() // 2)"
   ]
  },
  {
   "cell_type": "code",
   "execution_count": null,
   "metadata": {},
   "outputs": [],
   "source": [
    "# for i in range(10):\n",
    "#     print(\"sequence\", i)\n",
    "#     print(\"edits =\", (x_bar[i,:,:] != X).sum() // 2)"
   ]
  },
  {
   "cell_type": "code",
   "execution_count": 19,
   "metadata": {},
   "outputs": [],
   "source": [
    "# Get predictions\n",
    "with torch.no_grad():\n",
    "    q_prediction = model(x_bar)\n",
    "    # q_prediction = model(X_new)"
   ]
  },
  {
   "cell_type": "code",
   "execution_count": 20,
   "metadata": {},
   "outputs": [
    {
     "name": "stdout",
     "output_type": "stream",
     "text": [
      "0\n"
     ]
    },
    {
     "data": {
      "image/png": "[encoded data removed]",
      "text/plain": [
       "<Figure size 500x500 with 1 Axes>"
      ]
     },
     "metadata": {},
     "output_type": "display_data"
    },
    {
     "name": "stdout",
     "output_type": "stream",
     "text": [
      "1\n"
     ]
    },
    {
     "data": {
      "image/png": "[encoded data removed]",
      "text/plain": [
       "<Figure size 500x500 with 1 Axes>"
      ]
     },
     "metadata": {},
     "output_type": "display_data"
    },
    {
     "name": "stdout",
     "output_type": "stream",
     "text": [
      "2\n"
     ]
    },
    {
     "data": {
      "image/png": "[encoded data removed]",
      "text/plain": [
       "<Figure size 500x500 with 1 Axes>"
      ]
     },
     "metadata": {},
     "output_type": "display_data"
    },
    {
     "name": "stdout",
     "output_type": "stream",
     "text": [
      "3\n"
     ]
    },
    {
     "data": {
      "image/png": "[encoded data removed]",
      "text/plain": [
       "<Figure size 500x500 with 1 Axes>"
      ]
     },
     "metadata": {},
     "output_type": "display_data"
    },
    {
     "name": "stdout",
     "output_type": "stream",
     "text": [
      "4\n"
     ]
    },
    {
     "data": {
      "image/png": "[encoded data removed]",
      "text/plain": [
       "<Figure size 500x500 with 1 Axes>"
      ]
     },
     "metadata": {},
     "output_type": "display_data"
    },
    {
     "name": "stdout",
     "output_type": "stream",
     "text": [
      "5\n"
     ]
    },
    {
     "data": {
      "image/png": "[encoded data removed]",
      "text/plain": [
       "<Figure size 500x500 with 1 Axes>"
      ]
     },
     "metadata": {},
     "output_type": "display_data"
    },
    {
     "name": "stdout",
     "output_type": "stream",
     "text": [
      "6\n"
     ]
    },
    {
     "data": {
      "image/png": "[encoded data removed]",
      "text/plain": [
       "<Figure size 500x500 with 1 Axes>"
      ]
     },
     "metadata": {},
     "output_type": "display_data"
    },
    {
     "name": "stdout",
     "output_type": "stream",
     "text": [
      "7\n"
     ]
    },
    {
     "data": {
      "image/png": "[encoded data removed]",
      "text/plain": [
       "<Figure size 500x500 with 1 Axes>"
      ]
     },
     "metadata": {},
     "output_type": "display_data"
    },
    {
     "name": "stdout",
     "output_type": "stream",
     "text": [
      "8\n"
     ]
    },
    {
     "data": {
      "image/png": "[encoded data removed]",
      "text/plain": [
       "<Figure size 500x500 with 1 Axes>"
      ]
     },
     "metadata": {},
     "output_type": "display_data"
    },
    {
     "name": "stdout",
     "output_type": "stream",
     "text": [
      "9\n"
     ]
    },
    {
     "data": {
      "image/png": "[encoded data removed]",
      "text/plain": [
       "<Figure size 500x500 with 1 Axes>"
      ]
     },
     "metadata": {},
     "output_type": "display_data"
    }
   ],
   "source": [
    "for i in range(10):\n",
    "    print(i)\n",
    "    plot_map(from_upper_triu(q_prediction[i], matrix_len=64, num_diags=2), vmin=-0.6, vmax=0.6, palette=\"RdBu_r\", width=5, height=5)"
   ]
  },
  {
   "cell_type": "code",
   "execution_count": null,
   "metadata": {},
   "outputs": [],
   "source": []
  },
  {
   "cell_type": "code",
   "execution_count": null,
   "metadata": {},
   "outputs": [],
   "source": []
  },
  {
   "cell_type": "code",
   "execution_count": null,
   "metadata": {},
   "outputs": [],
   "source": []
  },
  {
   "cell_type": "code",
   "execution_count": null,
   "metadata": {},
   "outputs": [],
   "source": []
  },
  {
   "cell_type": "markdown",
   "metadata": {},
   "source": [
    "## Plotting Memory Usage"
   ]
  },
  {
   "cell_type": "code",
   "execution_count": null,
   "metadata": {},
   "outputs": [],
   "source": [
    "allocated_mb = torch.tensor([\n",
    "    11.32,  # start\n",
    "    11.43,  # after convblock\n",
    "    11.32,  # after convtower\n",
    "    11.37,  # after reading in the saved output\n",
    "    11.37,  # after modifying the output\n",
    "    11.44,  # after residual1d_block1\n",
    "    11.47,  # after conv_reduce\n",
    "    12.47,  # after one_to_two\n",
    "    12.48,  # after concat_dist\n",
    "    13.98,  # after conv2d_block\n",
    "    13.98,  # after symmetrize_2d\n",
    "    22.98,  # after residual2d_block4\n",
    "    22.98,  # after cropping_2d\n",
    "    23.36,   # after upper_tri\n",
    "    23.01   # after final\n",
    "])\n",
    "\n",
    "reserved_mb = torch.tensor([\n",
    "    54.00,  # start\n",
    "    54.00,  # after convblock\n",
    "    54.00,  # after convtower\n",
    "    54.00,  # after reading in the saved output\n",
    "    54.00,  # after modifying the output\n",
    "    54.00,  # after residual1d_block1\n",
    "    54.00,  # after conv_reduce\n",
    "    54.00,  # after one_to_two\n",
    "    54.00,  # after concat_dist\n",
    "    54.00,  # after conv2d_block\n",
    "    54.00,  # after symmetrize_2d\n",
    "    66.00,  # after residual2d_block4\n",
    "    66.00,  # after cropping_2d\n",
    "    66.00,   # after upper_tri\n",
    "    66.00   # after final\n",
    "])\n"
   ]
  },
  {
   "cell_type": "code",
   "execution_count": null,
   "metadata": {},
   "outputs": [],
   "source": [
    "import matplotlib.pyplot as plt\n",
    "\n",
    "steps = [\n",
    "    \"start\",\n",
    "    \"after convblock\",\n",
    "    \"after convtower\",\n",
    "    \"after reading in the saved output\",\n",
    "    \"after modifying the output\",\n",
    "    \"after residual1d_block1\",\n",
    "    \"after conv_reduce\",\n",
    "    \"after one_to_two\",\n",
    "    \"after concat_dist\",\n",
    "    \"after conv2d_block\",\n",
    "    \"after symmetrize_2d\",\n",
    "    \"after residual2d_block4\",\n",
    "    \"after cropping_2d\",\n",
    "    \"after upper_tri\",\n",
    "    \"after final\"\n",
    "]\n",
    "\n",
    "# Plot memory usage\n",
    "plt.figure(figsize=(12, 6))\n",
    "plt.plot(steps, allocated_mb, marker='o', label=\"Allocated Memory (MB)\", linestyle='-')\n",
    "plt.plot(steps, reserved_mb, marker='s', label=\"Reserved Memory (MB)\", linestyle='--')\n",
    "\n",
    "plt.xticks(rotation=45, ha=\"right\")\n",
    "plt.ylabel(\"Memory (MB)\")\n",
    "plt.xlabel(\"Forward Pass Steps\")\n",
    "plt.title(\"CUDA Memory Usage During Forward Pass\")\n",
    "plt.legend()\n",
    "plt.grid(True)\n",
    "plt.show()"
   ]
  },
  {
   "cell_type": "code",
   "execution_count": null,
   "metadata": {},
   "outputs": [],
   "source": [
    "# Extract memory values\n",
    "unified_steps = [\n",
    "    \"Start\", \"After ConvBlock 1\", \n",
    "    \"After ConvTower\", \"After Residual1D Block 1\", \"After ConvBlockReduce\", \n",
    "    \"After OneToTwo\", \"After ConcatDist2D\", \"After Conv2DBlock\", \"After Symmetrize2D\", \n",
    "    \"After Residual2D Block 4\", \"After Cropping2D\", \"After UpperTri\", \"After Final Layer\"\n",
    "]\n",
    "\n",
    "full_allocated_memory = [16.59, 306.59, 411.32, 412.02, 412.34, 422.34, \n",
    "                    422.49, 437.49, 437.49, 527.49, 527.49, 531.26, 527.58]\n",
    "\n",
    "full_reserved_memory = [126.00, 366.00, 448.00, 448.00, 448.00, 468.00, \n",
    "                   468.00, 468.00, 468.00, 580.00, 580.00, 580.00, 580.00]\n",
    "\n",
    "semifreddo_allocated_mb = torch.tensor([\n",
    "    11.32,  # start\n",
    "    11.43,  # after convblock\n",
    "    11.32,  # after convtower\n",
    "    11.44,  # after residual1d_block1\n",
    "    11.47,  # after conv_reduce\n",
    "    12.47,  # after one_to_two\n",
    "    12.48,  # after concat_dist\n",
    "    13.98,  # after conv2d_block\n",
    "    13.98,  # after symmetrize_2d\n",
    "    22.98,  # after residual2d_block4\n",
    "    22.98,  # after cropping_2d\n",
    "    23.36,   # after upper_tri\n",
    "    23.01   # after final\n",
    "])\n",
    "\n",
    "semifreddo_reserved_mb = torch.tensor([\n",
    "    54.00,  # start\n",
    "    54.00,  # after convblock\n",
    "    54.00,  # after convtower\n",
    "    54.00,  # after residual1d_block1\n",
    "    54.00,  # after conv_reduce\n",
    "    54.00,  # after one_to_two\n",
    "    54.00,  # after concat_dist\n",
    "    54.00,  # after conv2d_block\n",
    "    54.00,  # after symmetrize_2d\n",
    "    66.00,  # after residual2d_block4\n",
    "    66.00,  # after cropping_2d\n",
    "    66.00,   # after upper_tri\n",
    "    66.00   # after final\n",
    "])\n",
    "\n",
    "\n",
    "# Plot memory usage\n",
    "plt.figure(figsize=(12, 6))\n",
    "plt.plot(unified_steps, full_allocated_memory, marker='o', label=\"FULL MODEL - Allocated Memory (MB)\", linestyle='-')\n",
    "plt.plot(unified_steps, full_reserved_memory, marker='s', label=\"FULL MODEL - Reserved Memory (MB)\", linestyle='--')\n",
    "\n",
    "plt.plot(unified_steps, semifreddo_allocated_mb, marker='^', label=\"SEMIFREDDO - Allocated Memory (MB)\", linestyle=':')\n",
    "plt.plot(unified_steps, semifreddo_reserved_mb, marker='d', label=\"SEMIFREDDO - Reserved Memory (MB)\", linestyle='-.')\n",
    "\n",
    "plt.xticks(rotation=45, ha=\"right\")\n",
    "plt.ylabel(\"Memory (MB)\")\n",
    "plt.xlabel(\"Forward Pass Steps\")\n",
    "plt.title(\"CUDA Memory Usage During Forward Pass\")\n",
    "plt.legend()\n",
    "plt.grid(True)\n",
    "plt.show()"
   ]
  }
 ],
 "metadata": {
  "kernelspec": {
   "display_name": "pytorch_cuda11.8",
   "language": "python",
   "name": "python3"
  },
  "language_info": {
   "codemirror_mode": {
    "name": "ipython",
    "version": 3
   },
   "file_extension": ".py",
   "mimetype": "text/x-python",
   "name": "python",
   "nbconvert_exporter": "python",
   "pygments_lexer": "ipython3",
   "version": "3.12.3"
  }
 },
 "nbformat": 4,
 "nbformat_minor": 2
}
